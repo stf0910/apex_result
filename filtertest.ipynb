{
 "cells": [
  {
   "cell_type": "code",
   "execution_count": 220,
   "source": [
    "from PIL import Image\r\n",
    "import pyocr"
   ],
   "outputs": [],
   "metadata": {}
  },
  {
   "cell_type": "code",
   "execution_count": 221,
   "source": [
    "def img_to_text(img):\r\n",
    "    builder = pyocr.builders.TextBuilder(tesseract_layout=4)\r\n",
    "    result = tool.image_to_string(img,lang='jpn', builder=builder)\r\n",
    "    data_list = [text for text in result.split(\"\\n\") if text.strip()]\r\n",
    "    return data_list\r\n",
    "    "
   ],
   "outputs": [],
   "metadata": {}
  },
  {
   "cell_type": "code",
   "execution_count": 222,
   "source": [
    "OCR_PATH = \"../tesseract/tesseract.exe\"\r\n",
    "pyocr.tesseract.TESSERACT_CMD = OCR_PATH\r\n",
    "tools = pyocr.get_available_tools()\r\n",
    "tool = tools[0]"
   ],
   "outputs": [],
   "metadata": {}
  },
  {
   "cell_type": "code",
   "execution_count": 223,
   "source": [
    "im = Image.open(\"./test_data/test1.jpg\")"
   ],
   "outputs": [],
   "metadata": {}
  },
  {
   "cell_type": "code",
   "execution_count": 224,
   "source": [
    "up = 128\r\n",
    "width = 352\r\n",
    "height = 196\r\n",
    "x_margin = 17\r\n",
    "y_margin = 8\r\n",
    "\r\n",
    "teams = []\r\n",
    "for row in range(4):\r\n",
    "    if row != 0:\r\n",
    "        up += height + y_margin\r\n",
    "    for col in range(5):\r\n",
    "        if col != 0:\r\n",
    "            left += width + x_margin\r\n",
    "        else:\r\n",
    "            left = 25\r\n",
    "        team = im.crop((left, up, left+width, up+height))\r\n",
    "        teams.append(team)"
   ],
   "outputs": [],
   "metadata": {}
  },
  {
   "cell_type": "code",
   "execution_count": 225,
   "source": [
    "team_list = []\r\n",
    "for team in teams:    \r\n",
    "    team_name = team.crop((38,0,352,48))\r\n",
    "    player1 = team.crop((38,48,352,96))\r\n",
    "    player2 = team.crop((38,98,352,145))\r\n",
    "    player3 = team.crop((38,148,352,195))\r\n",
    "    d = [\r\n",
    "        team_name,\r\n",
    "        player1,\r\n",
    "        player2,\r\n",
    "        player3\r\n",
    "    ]\r\n",
    "    team_list.append(d)\r\n",
    "\r\n",
    "img_to_text(team_list[5][2])"
   ],
   "outputs": [
    {
     "output_type": "execute_result",
     "data": {
      "text/plain": [
       "['イケイケなチグサお』-nMG:208']"
      ]
     },
     "metadata": {},
     "execution_count": 225
    }
   ],
   "metadata": {}
  }
 ],
 "metadata": {
  "orig_nbformat": 4,
  "language_info": {
   "name": "python"
  }
 },
 "nbformat": 4,
 "nbformat_minor": 2
}